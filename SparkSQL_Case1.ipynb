{
 "cells": [
  {
   "cell_type": "code",
   "execution_count": 1,
   "metadata": {},
   "outputs": [
    {
     "name": "stdout",
     "output_type": "stream",
     "text": [
      "This is  a test program\n"
     ]
    }
   ],
   "source": [
    "import findspark\n",
    "findspark.init()\n",
    "print(\"This is  a test program\")"
   ]
  },
  {
   "cell_type": "code",
   "execution_count": 2,
   "metadata": {},
   "outputs": [
    {
     "name": "stdout",
     "output_type": "stream",
     "text": [
      "<SparkContext master=local[*] appName=PySparkShell>\n",
      "<pyspark.sql.context.SQLContext object at 0x7f250a86d358>\n",
      "+---+--------+-------------------+-------------------+\n",
      "| Id|Gender  |         Occupation|Swim time in second|\n",
      "+---+--------+-------------------+-------------------+\n",
      "|id1|    male|         programmer|              16.73|\n",
      "|id2|  female|            manager|              15.56|\n",
      "|id3|    male|           manager |              15.15|\n",
      "|id4|    male|       risk analyst|              15.27|\n",
      "|id5|    male|         programmer|              15.65|\n",
      "|id6|    male|       risk analyst|              15.74|\n",
      "|id7|  female|         progeammer|               16.8|\n",
      "|id8|  female|            manager|              17.11|\n",
      "+---+--------+-------------------+-------------------+\n",
      "only showing top 8 rows\n",
      "\n"
     ]
    }
   ],
   "source": [
    "from pyspark import SparkConf,SparkContext\n",
    "from pyspark.sql import SQLContext\n",
    "\n",
    "import random\n",
    "conf=SparkConf().setMaster(\"local\").setAppName(\"SparkContext_Case2\")\n",
    "sc=SparkContext.getOrCreate(conf=conf)\n",
    "print(sc)\n",
    "sql_context=SQLContext(sc)\n",
    "print(sql_context)\n",
    "df=sql_context.read.csv('/opt/sparktest/sports_data.csv',header=True,inferSchema=True)\n",
    "df.show(8)\n",
    "\n",
    "#df.printSchema()\n",
    "#df.limit(5).toPandas()\n",
    "sc.stop()"
   ]
  },
  {
   "cell_type": "code",
   "execution_count": null,
   "metadata": {},
   "outputs": [],
   "source": []
  }
 ],
 "metadata": {
  "kernelspec": {
   "display_name": "Python 3",
   "language": "python",
   "name": "python3"
  },
  "language_info": {
   "codemirror_mode": {
    "name": "ipython",
    "version": 3
   },
   "file_extension": ".py",
   "mimetype": "text/x-python",
   "name": "python",
   "nbconvert_exporter": "python",
   "pygments_lexer": "ipython3",
   "version": "3.6.8"
  }
 },
 "nbformat": 4,
 "nbformat_minor": 4
}
