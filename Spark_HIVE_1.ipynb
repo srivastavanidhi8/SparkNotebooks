{
 "cells": [
  {
   "cell_type": "code",
   "execution_count": 1,
   "metadata": {},
   "outputs": [],
   "source": [
    "import findspark\n",
    "findspark.init()"
   ]
  },
  {
   "cell_type": "code",
   "execution_count": 2,
   "metadata": {},
   "outputs": [
    {
     "name": "stdout",
     "output_type": "stream",
     "text": [
      "SparkSession\n",
      "<class 'pyspark.sql.session.SparkSession'>\n",
      "spark\n",
      "<pyspark.sql.session.SparkSession object at 0x7f26962dd048>\n",
      "+------------+---------+-----------+\n",
      "|filamenttype|bulbpower|lifeinhours|\n",
      "+------------+---------+-----------+\n",
      "|   filamentA|     100W|      605.0|\n",
      "|   filamentB|     100W|      683.0|\n",
      "|   filamentB|     100W|      691.0|\n",
      "|   filamentB|     200W|      561.0|\n",
      "|   filamentA|     200W|      530.0|\n",
      "+------------+---------+-----------+\n",
      "\n"
     ]
    }
   ],
   "source": [
    "from pyspark import SparkConf,SparkContext\n",
    "from pyspark.sql.session import SparkSession\n",
    "from pyspark.sql import HiveContext\n",
    "import random\n",
    "import numpy as np\n",
    "\n",
    "print(\"SparkSession\")\n",
    "print(SparkSession)\n",
    "spark=SparkSession.builder.master(\"local\").appName(\"Spark_HIVE_1\").config(\"spark.sql.warehouse.dir\",\"/user/hive/warehouse\").enableHiveSupport().getOrCreate()\n",
    "print(\"spark\")\n",
    "print(spark)\n",
    "\n",
    "FilamentDataFrame=spark.table('sparktest.filamenttable')\n",
    "FilamentDataFrame.show(5)\n",
    "#sc.stop()"
   ]
  },
  {
   "cell_type": "code",
   "execution_count": 3,
   "metadata": {},
   "outputs": [],
   "source": [
    "#surveyDF=spark.read.format(\"com.mongodb.spark.sql.DefaultSource\").option(\"uri\",\"mongodb://127.0.0.1/restaurant_survey.myCollection\").load()\n",
    "#surveyDF.show()"
   ]
  },
  {
   "cell_type": "code",
   "execution_count": null,
   "metadata": {},
   "outputs": [],
   "source": []
  }
 ],
 "metadata": {
  "kernelspec": {
   "display_name": "Python 3",
   "language": "python",
   "name": "python3"
  },
  "language_info": {
   "codemirror_mode": {
    "name": "ipython",
    "version": 3
   },
   "file_extension": ".py",
   "mimetype": "text/x-python",
   "name": "python",
   "nbconvert_exporter": "python",
   "pygments_lexer": "ipython3",
   "version": "3.6.8"
  }
 },
 "nbformat": 4,
 "nbformat_minor": 4
}
