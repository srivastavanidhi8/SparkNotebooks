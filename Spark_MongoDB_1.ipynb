{
 "cells": [
  {
   "cell_type": "code",
   "execution_count": 1,
   "metadata": {},
   "outputs": [],
   "source": [
    "import findspark\n",
    "findspark.init()"
   ]
  },
  {
   "cell_type": "code",
   "execution_count": 2,
   "metadata": {},
   "outputs": [
    {
     "name": "stdout",
     "output_type": "stream",
     "text": [
      "Spark\n",
      "<pyspark.sql.session.SparkSession object at 0x7f21fc4cd898>\n",
      "df_movies\n",
      "DataFrame[Gender: string, Vote: string, _id: struct<oid:string>]\n",
      "Print Schema\n",
      "root\n",
      " |-- Gender: string (nullable = true)\n",
      " |-- Vote: string (nullable = true)\n",
      " |-- _id: struct (nullable = true)\n",
      " |    |-- oid: string (nullable = true)\n",
      "\n",
      "First Five Rows\n",
      "+------+----+--------------------+\n",
      "|Gender|Vote|                 _id|\n",
      "+------+----+--------------------+\n",
      "|  Male|  No|[5f495103bae0494a...|\n",
      "|  Male| Yes|[5f495114bae0494a...|\n",
      "|  Male| Yes|[5f495116bae0494a...|\n",
      "|  Male| Yes|[5f495117bae0494a...|\n",
      "|  Male|  No|[5f495125bae0494a...|\n",
      "+------+----+--------------------+\n",
      "only showing top 5 rows\n",
      "\n"
     ]
    }
   ],
   "source": [
    "from pyspark import SparkConf,SparkContext\n",
    "from pyspark.sql.session import SparkSession\n",
    "import random\n",
    "import numpy as np\n",
    "conf=SparkConf().setMaster(\"local\").setAppName(\"Spark_MongoDB_1\")\n",
    "sc=SparkContext.getOrCreate(conf=conf)\n",
    "\n",
    "spark=SparkSession(sc)\n",
    "print(\"Spark\")\n",
    "print(spark)\n",
    "\n",
    "#df_movies=spark.read.format(\"com.mongodb.spark.sql.DefaultSource\").option(\"spark.mongodb.input.uri\",\"mongodb://localhost/movies.movie_ratings\").load()\n",
    "df_movies=spark.read.format(\"com.mongodb.spark.sql.DefaultSource\").option(\"spark.mongodb.input.uri\",\"mongodb://localhost/restaurant_survey.myColection\").load()\n",
    "print(\"df_movies\")\n",
    "print(df_movies)\n",
    "\n",
    "print(\"Print Schema\")\n",
    "df_movies.printSchema()\n",
    "\n",
    "print(\"First Five Rows\")\n",
    "df_movies.show(5)\n",
    "sc.stop()\n",
    "#print(sc)\n",
    "\n",
    "#my_mongodb_spark = SparkSession \\\n",
    "#    .builder \\\n",
    "#    .appName(\"Spark_MongoDB_1\") \\\n",
    "#    .config(\"spark.mongodb.input.uri\", \"mongodb://127.0.0.1/movies\") \\\n",
    "#    .config(\"spark.mongodb.output.uri\", \"mongodb://127.0.0.1/movies\") \\\n",
    "#    .getOrCreate()\n",
    "#print(\"my_spark\")\n",
    "#print(my_mongodb_spark)\n",
    "#df = my_mongodb_spark.read.format(\"movies_ratings\").load()\n"
   ]
  },
  {
   "cell_type": "code",
   "execution_count": 3,
   "metadata": {},
   "outputs": [],
   "source": [
    "#surveyDF=spark.read.format(\"com.mongodb.spark.sql.DefaultSource\").option(\"uri\",\"mongodb://127.0.0.1/restaurant_survey.myCollection\").load()\n",
    "#surveyDF.show()"
   ]
  },
  {
   "cell_type": "code",
   "execution_count": null,
   "metadata": {},
   "outputs": [],
   "source": []
  }
 ],
 "metadata": {
  "kernelspec": {
   "display_name": "Python 3",
   "language": "python",
   "name": "python3"
  },
  "language_info": {
   "codemirror_mode": {
    "name": "ipython",
    "version": 3
   },
   "file_extension": ".py",
   "mimetype": "text/x-python",
   "name": "python",
   "nbconvert_exporter": "python",
   "pygments_lexer": "ipython3",
   "version": "3.6.8"
  }
 },
 "nbformat": 4,
 "nbformat_minor": 4
}
